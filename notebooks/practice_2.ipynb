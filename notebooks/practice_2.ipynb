{
 "cells": [
  {
   "cell_type": "markdown",
   "metadata": {
    "collapsed": false
   },
   "source": [
    "# Práctica 2\n",
    "\n",
    "Para esta tarea, veremos los datos de vacunas de 2017. El archivo con estos datos está en `/data/NISPUF17.csv`. Para conocer los nombres de las variables de los datos tienes disponible una guía de usuarios de datos en `/data/NIS-PUF17-DUG.pdf`."
   ]
  },
  {
   "cell_type": "markdown",
   "metadata": {
    "collapsed": false
   },
   "source": [
    "## Pregunta 1\n",
    "\n",
    "Escribe una función llamada `proportion_of_education` que devuelva la proporción de niños en el dataset que tuvieron una madre con los niveles de educación: igual a menor de secundaria (<12), secundaria (12), mayor que secundaria pero sin ser universitaria graduada (>12) y con título universitario.\n",
    "\n",
    "Esta función debería devolver un diccionario en forma de (use los números correctos, no redondee los números):\n",
    "\n",
    "```python\n",
    "{\"menor que  secundaria\": 0.2,\n",
    " \"secundaria\": 0.4,\n",
    " \"mayor a secundaria pero no universitaria\": 0.2,\n",
    " \"universitaria\": 0.2}\n",
    "```\n"
   ]
  },
  {
   "cell_type": "code",
   "execution_count": 1,
   "metadata": {
    "ExecuteTime": {
     "end_time": "2023-05-21T22:00:42.430893575Z",
     "start_time": "2023-05-21T22:00:42.382088417Z"
    },
    "collapsed": false
   },
   "outputs": [
    {
     "data": {
      "text/plain": [
       "{'menor que secundaria': np.float64(0.10202002459160373),\n",
       " 'secundaria': np.float64(0.172352011241876),\n",
       " 'mayor a secundaria pero no universitaria': np.float64(0.24588090637625154),\n",
       " 'universitaria': np.float64(0.47974705779026877)}"
      ]
     },
     "execution_count": 1,
     "metadata": {},
     "output_type": "execute_result"
    }
   ],
   "source": [
    "import pandas as pd\n",
    "data_path = '../data/NISPUF17.csv'\n",
    "data = pd.read_csv(data_path)\n",
    "\n",
    "def proportion_of_education():\n",
    "    # Tu código aquí\n",
    "    education_data = data['EDUC1'].dropna()\n",
    "    \n",
    "    \n",
    "    education_counts = education_data.value_counts(normalize=True)\n",
    "    \n",
    "    # Crear el diccionario\n",
    "    proportion_dict = {\n",
    "        \"menor que secundaria\": education_counts.get(1, 0),\n",
    "        \"secundaria\": education_counts.get(2, 0),\n",
    "        \"mayor a secundaria pero no universitaria\": education_counts.get(3, 0),\n",
    "        \"universitaria\": education_counts.get(4, 0)\n",
    "    }\n",
    "    \n",
    "    return proportion_dict\n",
    "\n",
    "proportion_of_education()\n",
    "\n",
    "    \n",
    "\n",
    "\n",
    "proportion_of_education()"
   ]
  },
  {
   "cell_type": "markdown",
   "metadata": {
    "collapsed": false
   },
   "source": [
    "## Pregunta 2\n",
    "\n",
    "Exploremos la relación entre ser alimentado con leche materna (fed breast milk) cuando era niño y recibir una vacuna contra la influenza estacional (seasonal influenza) de un proveedor de atención médica.\n",
    "\n",
    "Devuelva una tupla del número promedio de vacunas contra la influenza para aquellos niños que sabemos que recibieron leche materna cuando eran niños y aquellos que sabemos que no."
   ]
  },
  {
   "cell_type": "code",
   "execution_count": 2,
   "metadata": {
    "collapsed": false
   },
   "outputs": [
    {
     "name": "stdout",
     "output_type": "stream",
     "text": [
      "(np.float64(1.8799187420058687), np.float64(1.5963945918878317))\n"
     ]
    },
    {
     "data": {
      "text/plain": [
       "(np.float64(1.8799187420058687), np.float64(1.5963945918878317))"
      ]
     },
     "execution_count": 2,
     "metadata": {},
     "output_type": "execute_result"
    }
   ],
   "source": [
    "\n",
    "\n",
    "import pandas as pd\n",
    "\n",
    "# Cargar el archivo de datos\n",
    "data_path = '../data/NISPUF17.csv'\n",
    "data = pd.read_csv(data_path)\n",
    "\n",
    "def average_influenza_doses():\n",
    "    # Filtrar datos para leche materna y vacunas de influenza\n",
    "    breastfed = data[data['CBF_01'] == 1]['P_NUMFLU'].dropna()\n",
    "    not_breastfed = data[data['CBF_01'] == 2]['P_NUMFLU'].dropna()\n",
    "    \n",
    "    # Calcular promedios\n",
    "    avg_breastfed = breastfed.mean()\n",
    "    avg_not_breastfed = not_breastfed.mean()\n",
    "    \n",
    "    return (avg_breastfed, avg_not_breastfed)\n",
    "\n",
    "\n",
    "print(average_influenza_doses())\n",
    "average_influenza_doses()"
   ]
  },
  {
   "cell_type": "markdown",
   "metadata": {
    "collapsed": false
   },
   "source": [
    "# Pregunta 3\n",
    "\n",
    "Sería interesante ver si hay evidencia de un vínculo entre la efectividad de la vacuna y el sexo del niño.\n",
    "Calcule el ratio entre el número de niños que contrajeron varicela (chickenpox) pero que fueron vacunados contra ella (al menos una dosis) versus los que fueron vacunados y no contrajeron varicela.\n",
    "\n",
    "Devuelve los resultados por sexo.\n",
    "\n",
    "Esta función debería devolver un diccionario en forma de:\n",
    "\n",
    "```python\n",
    "{\"male\": 0.2, \"female\": 0.4}\n",
    "```\n",
    "\n",
    "Nota: Para ayudar en la verificación, el valor de chickenpox_by_sex()['female'] comienza con los dígitos 0.0077."
   ]
  },
  {
   "cell_type": "code",
   "execution_count": 3,
   "metadata": {
    "collapsed": false
   },
   "outputs": [
    {
     "name": "stdout",
     "output_type": "stream",
     "text": [
      "{'male': np.float64(0.009645390070921986), 'female': np.float64(0.007766705744431419)}\n"
     ]
    },
    {
     "data": {
      "text/plain": [
       "{'male': np.float64(0.009645390070921986),\n",
       " 'female': np.float64(0.007766705744431419)}"
      ]
     },
     "execution_count": 3,
     "metadata": {},
     "output_type": "execute_result"
    }
   ],
   "source": [
    "\n",
    "import pandas as pd\n",
    "\n",
    "data_path = '../data/NISPUF17.csv'\n",
    "data = pd.read_csv(data_path)\n",
    "\n",
    "def chickenpox_by_sex():\n",
    "    vaccinated = data[(data['P_NUMVRC'] > 0) & (data['HAD_CPOX'].notna())]\n",
    "    \n",
    "    \n",
    "    results = {}\n",
    "    for sex, label in zip([1, 2], ['male', 'female']):\n",
    "        sex_data = vaccinated[vaccinated['SEX'] == sex]\n",
    "        had_chickenpox = sex_data['HAD_CPOX'].value_counts(normalize=True).get(1, 0)\n",
    "        results[label] = had_chickenpox / (1 - had_chickenpox) if had_chickenpox < 1 else 0\n",
    "    \n",
    "    return results\n",
    "\n",
    "\n",
    "print(chickenpox_by_sex())\n",
    "\n",
    "chickenpox_by_sex()"
   ]
  },
  {
   "cell_type": "code",
   "execution_count": null,
   "metadata": {
    "collapsed": false
   },
   "outputs": [],
   "source": []
  }
 ],
 "metadata": {
  "kernelspec": {
   "display_name": "Python 3",
   "language": "python",
   "name": "python3"
  },
  "language_info": {
   "codemirror_mode": {
    "name": "ipython",
    "version": 3
   },
   "file_extension": ".py",
   "mimetype": "text/x-python",
   "name": "python",
   "nbconvert_exporter": "python",
   "pygments_lexer": "ipython3",
   "version": "3.12.1"
  }
 },
 "nbformat": 4,
 "nbformat_minor": 0
}
